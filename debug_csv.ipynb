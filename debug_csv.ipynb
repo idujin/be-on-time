{
 "cells": [
  {
   "cell_type": "code",
   "execution_count": 63,
   "metadata": {},
   "outputs": [],
   "source": [
    "import pandas as pd\n",
    "import numpy as np\n",
    "from datetime import datetime, timedelta\n",
    "from dateman import DateManager\n"
   ]
  },
  {
   "cell_type": "code",
   "execution_count": 64,
   "metadata": {},
   "outputs": [],
   "source": [
    "column_info =[(\"time\"),(\"excuse\"),(\"score\")]\n",
    "\n",
    "row_info =[(\"2023-11\", \"2023-11-3\")]\n",
    "\n",
    "\n",
    "multi_index_rows = pd.MultiIndex.from_tuples(row_info, names = ['month','date'])\n",
    "check_in_values = np.array([['09:00:12','없음',-5]\n",
    "])\n",
    "dateman = DateManager()\n",
    "def is_working_day(date):\n",
    "    '''\n",
    "    params:\n",
    "    date: datetime.date() \n",
    "    '''\n",
    "    holiday_name = dateman.get_holiday_name_kr()\n",
    "    weekday = date.weekday()\n",
    "    return weekday < 5 and not holiday_name\n",
    "\n",
    "# check if there are empty cells\n",
    "def fill_empty_date(user, current_date, prev_log_index):\n",
    "\n",
    "    prev_bus_day = current_date- timedelta(days=1)\n",
    "    while(not is_working_day(prev_bus_day)):\n",
    "        prev_bus_day -= timedelta(days=1)\n",
    "\n",
    "    #if prev_bus_day is not equal to the last log of csv, update and check if there is empty cell until prev_bus_day is equal to the last log\n",
    "    prev_log_date = user_data[prev_log_index].name\n",
    "    if(prev_bus_day != prev_log_date):\n",
    "        fill_empty_date(user, prev_bus_day, prev_log_index)\n",
    "        latest_time = \"10:30:00\"\n",
    "        update_csv(user, time = latest_time)\n",
    "        \n",
    "    return\n",
    "def get_csv(user, year):\n",
    "    file_name = user + year +\".csv\"\n",
    "    return pd.read_csv(file_name, index_col = [0,1])\n",
    "\n",
    "def get_next_bus_day(date):\n",
    "    next_bus_day = date + timedelta(days=1)\n",
    "    while(not is_working_day(next_bus_day)):\n",
    "        next_bus_day += timedelta(days=1)\n",
    "    return next_bus_day\n",
    "\n",
    "def update_csv(user, time= None, excuse = None):\n",
    "    '''\n",
    "    Update date, time, excuse, score to user's csv file. Date will be next business day of the last logged date.\n",
    "    -----------------------\n",
    "    Parameters:\n",
    "    user: user name to update csv file\n",
    "    time (Optional): time to log, if it is empty, current time will be logged\n",
    "    excuse (Optional): it should be among \"운동\", \"재택\", \"연차\". If it is empty, nothing will be logged for excuse\n",
    "    '''\n",
    "    \n",
    "\n",
    "    current_time = datetime.now()\n",
    "    today = str(current_time.date())\n",
    "    yesterday = str(current_time.date()- timedelta(days=1))\n",
    "\n",
    "    df = get_csv(user, current_time.date().year)\n",
    "\n",
    "    last_log_date = df.iloc[-1].name[1]\n",
    "    next_bus_day = get_next_bus_day(last_log_date)\n",
    "\n",
    "    df_add = pd.DataFrame([[str(next_bus_day),'10:00:12','없음',-15]], index=['2023-11'])\n",
    "    df_add.to_csv('mycsv.csv',header =False, mode='a')"
   ]
  },
  {
   "cell_type": "code",
   "execution_count": 70,
   "metadata": {},
   "outputs": [
    {
     "data": {
      "text/plain": [
       "2023"
      ]
     },
     "execution_count": 70,
     "metadata": {},
     "output_type": "execute_result"
    }
   ],
   "source": [
    "current_time = datetime.now()\n",
    "\n",
    "(current_time.date().year)"
   ]
  },
  {
   "cell_type": "code",
   "execution_count": null,
   "metadata": {},
   "outputs": [],
   "source": [
    "def check_in(self, user, option = \"없음\", is_custom = False, custom_hh=0, custom_mm=0):\n",
    "    '''\n",
    "    '''\n",
    "\n",
    "    current_time = datetime.now()\n",
    "    today = str(current_time.date())\n",
    "    check_in_time = current_time.time().strftime(\"%H:%M:%S\")\n",
    "    if(is_custom):\n",
    "        check_in_time =str(int(custom_hh))+\":\"+str(int(custom_mm))+\":00\"\n",
    "    holiday_name = self.dateman.get_holiday_name_kr()\n",
    "    weekday = current_time.date().weekday()\n",
    "    is_working_day = weekday < 5 and not holiday_name\n",
    "\n",
    "    msg = f\"{user}님, 오늘은 주말입니다. 집으로 돌아가세요!\"\n",
    "    if(is_working_day):\n",
    "        start_row = 23 + self.dateman.get_order_busday()\n",
    "\n",
    "        self._update_data(\"A\"+str(start_row),[today])\n",
    "        self._update_data(start_col +str(start_row),[check_in_time])\n",
    "\n",
    "        self._clear_options(start_row, start_col)\n",
    "\n",
    "        msg = f\"{user}님은 {check_in_time}시에 출근완료.\"\n",
    "        if option != \"없음\" and option != None:\n",
    "            self._clear_options(start_row, start_col)\n",
    "            self._update_data(chr(ord(start_col)+self.excuse[option])+str(start_row),[True])\n",
    "\n",
    "            if(option !=\"운동\"):\n",
    "                msg = f\"{user}님은 오늘 {option}!\"\n",
    "            else:\n",
    "                msg += f\" {option} 점수가 추가되었어요.\"\n",
    "    elif(holiday_name):\n",
    "        msg = f\"오늘은 {holiday_name}입니다. 집으로 돌아가세요!\"\n",
    "\n",
    "    logger.info(msg)\n",
    "    return msg"
   ]
  },
  {
   "cell_type": "code",
   "execution_count": 11,
   "metadata": {},
   "outputs": [],
   "source": [
    "column_info =[(\"time\"),(\"excuse\"),(\"score\")]\n",
    "\n",
    "row_info =[(\"2023-10\", \"2023-10-1\"),\n",
    "                (\"2023-10\", \"2023-10-2\"),\n",
    "                (\"2023-10\", \"2023-10-3\"),\n",
    "                (\"2023-11\", \"2023-11-1\"),\n",
    "                (\"2023-11\", \"2023-11-2\")]\n",
    "\n",
    "\n",
    "multi_index_rows = pd.MultiIndex.from_tuples(row_info, names = ['month','date'])\n",
    "check_in_values = np.array([\n",
    "    ['10:00:12','없음',-15], ['10:00:12','없음',-15], ['10:00:09','없음',-15],\n",
    "    ['09:10:11', '운동',0], ['10:00:12','없음',-15]\n",
    "])\n",
    "\n",
    "df = pd.DataFrame(data=check_in_values, columns=column_info, index = multi_index_rows)\n",
    "df.to_csv('mycsv1.csv',header =True,index=['2023-10'],mode='w')\n"
   ]
  },
  {
   "cell_type": "code",
   "execution_count": 12,
   "metadata": {},
   "outputs": [
    {
     "ename": "SpreadsheetNotFound",
     "evalue": "<Response [200]>",
     "output_type": "error",
     "traceback": [
      "\u001b[0;31m---------------------------------------------------------------------------\u001b[0m",
      "\u001b[0;31mStopIteration\u001b[0m                             Traceback (most recent call last)",
      "File \u001b[0;32m~/Documents/Dev/be-on-time/.venv/lib/python3.10/site-packages/gspread/client.py:185\u001b[0m, in \u001b[0;36mClient.open\u001b[0;34m(self, title, folder_id)\u001b[0m\n\u001b[1;32m    184\u001b[0m \u001b[39mtry\u001b[39;00m:\n\u001b[0;32m--> 185\u001b[0m     properties \u001b[39m=\u001b[39m finditem(\n\u001b[1;32m    186\u001b[0m         \u001b[39mlambda\u001b[39;49;00m x: x[\u001b[39m\"\u001b[39;49m\u001b[39mname\u001b[39;49m\u001b[39m\"\u001b[39;49m] \u001b[39m==\u001b[39;49m title,\n\u001b[1;32m    187\u001b[0m         spreadsheet_files,\n\u001b[1;32m    188\u001b[0m     )\n\u001b[1;32m    189\u001b[0m \u001b[39mexcept\u001b[39;00m \u001b[39mStopIteration\u001b[39;00m \u001b[39mas\u001b[39;00m ex:\n",
      "File \u001b[0;32m~/Documents/Dev/be-on-time/.venv/lib/python3.10/site-packages/gspread/utils.py:145\u001b[0m, in \u001b[0;36mfinditem\u001b[0;34m(func, seq)\u001b[0m\n\u001b[1;32m    144\u001b[0m \u001b[39m\u001b[39m\u001b[39m\"\"\"Finds and returns first item in iterable for which func(item) is True.\"\"\"\u001b[39;00m\n\u001b[0;32m--> 145\u001b[0m \u001b[39mreturn\u001b[39;00m \u001b[39mnext\u001b[39;49m(item \u001b[39mfor\u001b[39;49;00m item \u001b[39min\u001b[39;49;00m seq \u001b[39mif\u001b[39;49;00m func(item))\n",
      "\u001b[0;31mStopIteration\u001b[0m: ",
      "\nThe above exception was the direct cause of the following exception:\n",
      "\u001b[0;31mSpreadsheetNotFound\u001b[0m                       Traceback (most recent call last)",
      "\u001b[1;32m/Users/yujinlee/Documents/Dev/be-on-time/debug_csv.ipynb Cell 3\u001b[0m line \u001b[0;36m5\n\u001b[1;32m      <a href='vscode-notebook-cell:/Users/yujinlee/Documents/Dev/be-on-time/debug_csv.ipynb#W3sZmlsZQ%3D%3D?line=0'>1</a>\u001b[0m \u001b[39mimport\u001b[39;00m \u001b[39mgspread\u001b[39;00m\n\u001b[1;32m      <a href='vscode-notebook-cell:/Users/yujinlee/Documents/Dev/be-on-time/debug_csv.ipynb#W3sZmlsZQ%3D%3D?line=2'>3</a>\u001b[0m gc \u001b[39m=\u001b[39m gspread\u001b[39m.\u001b[39moauth()\n\u001b[0;32m----> <a href='vscode-notebook-cell:/Users/yujinlee/Documents/Dev/be-on-time/debug_csv.ipynb#W3sZmlsZQ%3D%3D?line=4'>5</a>\u001b[0m sh \u001b[39m=\u001b[39m gc\u001b[39m.\u001b[39;49mopen(\u001b[39m\"\u001b[39;49m\u001b[39mExample spreadsheet\u001b[39;49m\u001b[39m\"\u001b[39;49m)\n\u001b[1;32m      <a href='vscode-notebook-cell:/Users/yujinlee/Documents/Dev/be-on-time/debug_csv.ipynb#W3sZmlsZQ%3D%3D?line=6'>7</a>\u001b[0m \u001b[39mprint\u001b[39m(sh\u001b[39m.\u001b[39msheet1\u001b[39m.\u001b[39mget(\u001b[39m'\u001b[39m\u001b[39mA1\u001b[39m\u001b[39m'\u001b[39m))\n",
      "File \u001b[0;32m~/Documents/Dev/be-on-time/.venv/lib/python3.10/site-packages/gspread/client.py:190\u001b[0m, in \u001b[0;36mClient.open\u001b[0;34m(self, title, folder_id)\u001b[0m\n\u001b[1;32m    185\u001b[0m     properties \u001b[39m=\u001b[39m finditem(\n\u001b[1;32m    186\u001b[0m         \u001b[39mlambda\u001b[39;00m x: x[\u001b[39m\"\u001b[39m\u001b[39mname\u001b[39m\u001b[39m\"\u001b[39m] \u001b[39m==\u001b[39m title,\n\u001b[1;32m    187\u001b[0m         spreadsheet_files,\n\u001b[1;32m    188\u001b[0m     )\n\u001b[1;32m    189\u001b[0m \u001b[39mexcept\u001b[39;00m \u001b[39mStopIteration\u001b[39;00m \u001b[39mas\u001b[39;00m ex:\n\u001b[0;32m--> 190\u001b[0m     \u001b[39mraise\u001b[39;00m SpreadsheetNotFound(response) \u001b[39mfrom\u001b[39;00m \u001b[39mex\u001b[39;00m\n\u001b[1;32m    192\u001b[0m \u001b[39m# Drive uses different terminology\u001b[39;00m\n\u001b[1;32m    193\u001b[0m properties[\u001b[39m\"\u001b[39m\u001b[39mtitle\u001b[39m\u001b[39m\"\u001b[39m] \u001b[39m=\u001b[39m properties[\u001b[39m\"\u001b[39m\u001b[39mname\u001b[39m\u001b[39m\"\u001b[39m]\n",
      "\u001b[0;31mSpreadsheetNotFound\u001b[0m: <Response [200]>"
     ]
    }
   ],
   "source": [
    "import gspread\n",
    "\n",
    "gc = gspread.oauth()\n",
    "\n",
    "sh = gc.open(\"Example spreadsheet\")\n",
    "\n",
    "print(sh.sheet1.get('A1'))"
   ]
  },
  {
   "cell_type": "code",
   "execution_count": 67,
   "metadata": {},
   "outputs": [],
   "source": [
    "column_info =[(\"time\"),(\"excuse\"),(\"score\")]\n",
    "\n",
    "row_info =[(\"2023-10\", \"2023-10-1\"),\n",
    "                (\"2023-10\", \"2023-10-2\"),\n",
    "                (\"2023-10\", \"2023-10-3\"),\n",
    "                (\"2023-12\", \"2023-12-1\"),\n",
    "                (\"2023-12\", \"2023-12-2\")]\n",
    "\n",
    "\n",
    "multi_index_rows = pd.MultiIndex.from_tuples(row_info, names = ['month','date'])\n",
    "check_in_values = np.array([\n",
    "    ['10:00:12','없음',-15], ['10:00:12','없음',-15], ['10:00:09','없음',-15],\n",
    "    ['09:10:11', '운동',0], ['10:00:12','없음',-15]\n",
    "])\n",
    "\n",
    "df = pd.DataFrame(data=check_in_values, columns=column_info, index = multi_index_rows)\n",
    "df.to_csv('mycsv1.csv',header =True,index=['2023-10'],mode='w')\n"
   ]
  },
  {
   "cell_type": "code",
   "execution_count": 97,
   "metadata": {},
   "outputs": [
    {
     "data": {
      "text/html": [
       "<div>\n",
       "<style scoped>\n",
       "    .dataframe tbody tr th:only-of-type {\n",
       "        vertical-align: middle;\n",
       "    }\n",
       "\n",
       "    .dataframe tbody tr th {\n",
       "        vertical-align: top;\n",
       "    }\n",
       "\n",
       "    .dataframe thead th {\n",
       "        text-align: right;\n",
       "    }\n",
       "</style>\n",
       "<table border=\"1\" class=\"dataframe\">\n",
       "  <thead>\n",
       "    <tr style=\"text-align: right;\">\n",
       "      <th></th>\n",
       "      <th></th>\n",
       "      <th>time</th>\n",
       "      <th>excuse</th>\n",
       "      <th>score</th>\n",
       "    </tr>\n",
       "    <tr>\n",
       "      <th>month</th>\n",
       "      <th>date</th>\n",
       "      <th></th>\n",
       "      <th></th>\n",
       "      <th></th>\n",
       "    </tr>\n",
       "  </thead>\n",
       "  <tbody>\n",
       "    <tr>\n",
       "      <th rowspan=\"3\" valign=\"top\">2023-10</th>\n",
       "      <th>2023-10-1</th>\n",
       "      <td>10:00:12</td>\n",
       "      <td>없음</td>\n",
       "      <td>-15</td>\n",
       "    </tr>\n",
       "    <tr>\n",
       "      <th>2023-10-2</th>\n",
       "      <td>10:00:12</td>\n",
       "      <td>없음</td>\n",
       "      <td>-15</td>\n",
       "    </tr>\n",
       "    <tr>\n",
       "      <th>2023-10-3</th>\n",
       "      <td>10:00:09</td>\n",
       "      <td>없음</td>\n",
       "      <td>-15</td>\n",
       "    </tr>\n",
       "    <tr>\n",
       "      <th rowspan=\"2\" valign=\"top\">2023-11</th>\n",
       "      <th>2023-11-1</th>\n",
       "      <td>09:10:11</td>\n",
       "      <td>운동</td>\n",
       "      <td>0</td>\n",
       "    </tr>\n",
       "    <tr>\n",
       "      <th>2023-11-2</th>\n",
       "      <td>10:00:12</td>\n",
       "      <td>없음</td>\n",
       "      <td>-15</td>\n",
       "    </tr>\n",
       "  </tbody>\n",
       "</table>\n",
       "</div>"
      ],
      "text/plain": [
       "                       time excuse score\n",
       "month   date                            \n",
       "2023-10 2023-10-1  10:00:12     없음   -15\n",
       "        2023-10-2  10:00:12     없음   -15\n",
       "        2023-10-3  10:00:09     없음   -15\n",
       "2023-11 2023-11-1  09:10:11     운동     0\n",
       "        2023-11-2  10:00:12     없음   -15"
      ]
     },
     "execution_count": 97,
     "metadata": {},
     "output_type": "execute_result"
    }
   ],
   "source": [
    "df"
   ]
  },
  {
   "cell_type": "code",
   "execution_count": 62,
   "metadata": {},
   "outputs": [
    {
     "data": {
      "text/plain": [
       "'2023-10-1'"
      ]
     },
     "execution_count": 62,
     "metadata": {},
     "output_type": "execute_result"
    }
   ],
   "source": [
    "df.loc['2023-10'].iloc[0].name"
   ]
  },
  {
   "cell_type": "code",
   "execution_count": 103,
   "metadata": {},
   "outputs": [
    {
     "data": {
      "text/plain": [
       "'2023-11-2'"
      ]
     },
     "execution_count": 103,
     "metadata": {},
     "output_type": "execute_result"
    }
   ],
   "source": [
    "df.iloc[-1].name[1]"
   ]
  },
  {
   "cell_type": "code",
   "execution_count": 42,
   "metadata": {},
   "outputs": [],
   "source": [
    "column_info =[(\"time\"),(\"excuse\"),(\"score\")]\n",
    "\n",
    "row_info =[(\"2023-11\", \"2023-11-3\")]\n",
    "\n",
    "\n",
    "multi_index_rows = pd.MultiIndex.from_tuples(row_info, names = ['month','date'])\n",
    "check_in_values = np.array([['09:00:12','없음',-5]\n",
    "])\n",
    "\n",
    "df2 = pd.DataFrame(data=check_in_values, columns=column_info, index = multi_index_rows)\n",
    "df3 = pd.concat([df, df2]).to_csv('mycsv1.csv', index=True)\n",
    "#df.to_csv('mycsv1.csv',header =True, mode='a')"
   ]
  },
  {
   "cell_type": "code",
   "execution_count": 43,
   "metadata": {},
   "outputs": [
    {
     "data": {
      "text/html": [
       "<div>\n",
       "<style scoped>\n",
       "    .dataframe tbody tr th:only-of-type {\n",
       "        vertical-align: middle;\n",
       "    }\n",
       "\n",
       "    .dataframe tbody tr th {\n",
       "        vertical-align: top;\n",
       "    }\n",
       "\n",
       "    .dataframe thead th {\n",
       "        text-align: right;\n",
       "    }\n",
       "</style>\n",
       "<table border=\"1\" class=\"dataframe\">\n",
       "  <thead>\n",
       "    <tr style=\"text-align: right;\">\n",
       "      <th></th>\n",
       "      <th></th>\n",
       "      <th>time</th>\n",
       "      <th>excuse</th>\n",
       "      <th>score</th>\n",
       "    </tr>\n",
       "    <tr>\n",
       "      <th>month</th>\n",
       "      <th>date</th>\n",
       "      <th></th>\n",
       "      <th></th>\n",
       "      <th></th>\n",
       "    </tr>\n",
       "  </thead>\n",
       "  <tbody>\n",
       "    <tr>\n",
       "      <th rowspan=\"3\" valign=\"top\">2023-10</th>\n",
       "      <th>2023-10-1</th>\n",
       "      <td>10:00:12</td>\n",
       "      <td>없음</td>\n",
       "      <td>-15</td>\n",
       "    </tr>\n",
       "    <tr>\n",
       "      <th>2023-10-2</th>\n",
       "      <td>10:00:12</td>\n",
       "      <td>없음</td>\n",
       "      <td>-15</td>\n",
       "    </tr>\n",
       "    <tr>\n",
       "      <th>2023-10-3</th>\n",
       "      <td>10:00:09</td>\n",
       "      <td>없음</td>\n",
       "      <td>-15</td>\n",
       "    </tr>\n",
       "    <tr>\n",
       "      <th rowspan=\"3\" valign=\"top\">2023-11</th>\n",
       "      <th>2023-11-1</th>\n",
       "      <td>09:10:11</td>\n",
       "      <td>운동</td>\n",
       "      <td>0</td>\n",
       "    </tr>\n",
       "    <tr>\n",
       "      <th>2023-11-2</th>\n",
       "      <td>10:00:12</td>\n",
       "      <td>없음</td>\n",
       "      <td>-15</td>\n",
       "    </tr>\n",
       "    <tr>\n",
       "      <th>2023-11-3</th>\n",
       "      <td>09:00:12</td>\n",
       "      <td>없음</td>\n",
       "      <td>-5</td>\n",
       "    </tr>\n",
       "  </tbody>\n",
       "</table>\n",
       "</div>"
      ],
      "text/plain": [
       "                       time excuse  score\n",
       "month   date                             \n",
       "2023-10 2023-10-1  10:00:12     없음    -15\n",
       "        2023-10-2  10:00:12     없음    -15\n",
       "        2023-10-3  10:00:09     없음    -15\n",
       "2023-11 2023-11-1  09:10:11     운동      0\n",
       "        2023-11-2  10:00:12     없음    -15\n",
       "        2023-11-3  09:00:12     없음     -5"
      ]
     },
     "execution_count": 43,
     "metadata": {},
     "output_type": "execute_result"
    }
   ],
   "source": [
    "df2 = pd.read_csv(\"mycsv1.csv\", index_col = [0,1])\n",
    "df2"
   ]
  },
  {
   "cell_type": "code",
   "execution_count": 23,
   "metadata": {},
   "outputs": [],
   "source": [
    "#df1=pd.DataFrame({'날짜':['2023-10-1', '2023-10-2'],'시각':['10:00:12', '09:10:11'],'개인사유':['없음','운동'],'점수':[-15,0]}, index=['2023-10','2023-10'])\n",
    "df1=pd.DataFrame([['2023-10-1','10:00:12','없음',-15],['2023-10-2', '09:10:11', '운동',0]], index=['2023-10','2023-10'])\n",
    "\n",
    "df1.to_csv('mycsv.csv', header = ['Date','Time','Excuse','Score'])\n",
    "\n"
   ]
  },
  {
   "cell_type": "code",
   "execution_count": 24,
   "metadata": {},
   "outputs": [],
   "source": [
    "df_add=pd.DataFrame([['2023-10-3','10:00:12','없음',-15]], index=['2023-10'])\n",
    "df_add.to_csv('mycsv.csv',header =False,index=['2023-10'],mode='a')\n",
    "\n",
    "df_add=pd.DataFrame([['2023-10-3','10:00:12','운동',-10]], index=['2023-11'])\n",
    "df_add.to_csv('mycsv.csv',header =False,index=['2023-10'],mode='a')"
   ]
  },
  {
   "cell_type": "code",
   "execution_count": 72,
   "metadata": {},
   "outputs": [],
   "source": []
  },
  {
   "cell_type": "code",
   "execution_count": 93,
   "metadata": {},
   "outputs": [],
   "source": [
    "column_info =[(\"time\"),(\"excuse\"),(\"score\")]\n",
    "\n",
    "row_info =[(\"2023-10\", \"2023-10-1\"),\n",
    "                (\"2023-10\", \"2023-10-2\"),\n",
    "                (\"2023-10\", \"2023-10-3\"),\n",
    "                (\"2023-11\", \"2023-11-1\"),\n",
    "                (\"2023-11\", \"2023-11-2\")]\n",
    "\n",
    "\n",
    "multi_index_rows = pd.MultiIndex.from_tuples(row_info, names = ['month','date'])\n",
    "check_in_values = np.array([\n",
    "    ['10:00:12','없음',-15], ['10:00:12','없음',-15], ['10:00:09','없음',-15],\n",
    "    ['09:10:11', '운동',0], ['10:00:12','없음',-15]\n",
    "])\n",
    "\n",
    "df = pd.DataFrame(data=check_in_values, columns=column_info, index = multi_index_rows)\n",
    "df.to_csv('mycsv.csv',header =True,mode='w')"
   ]
  },
  {
   "cell_type": "code",
   "execution_count": 96,
   "metadata": {},
   "outputs": [
    {
     "data": {
      "text/html": [
       "<div>\n",
       "<style scoped>\n",
       "    .dataframe tbody tr th:only-of-type {\n",
       "        vertical-align: middle;\n",
       "    }\n",
       "\n",
       "    .dataframe tbody tr th {\n",
       "        vertical-align: top;\n",
       "    }\n",
       "\n",
       "    .dataframe thead th {\n",
       "        text-align: right;\n",
       "    }\n",
       "</style>\n",
       "<table border=\"1\" class=\"dataframe\">\n",
       "  <thead>\n",
       "    <tr style=\"text-align: right;\">\n",
       "      <th></th>\n",
       "      <th></th>\n",
       "      <th>time</th>\n",
       "      <th>excuse</th>\n",
       "      <th>score</th>\n",
       "    </tr>\n",
       "    <tr>\n",
       "      <th>month</th>\n",
       "      <th>date</th>\n",
       "      <th></th>\n",
       "      <th></th>\n",
       "      <th></th>\n",
       "    </tr>\n",
       "  </thead>\n",
       "  <tbody>\n",
       "    <tr>\n",
       "      <th rowspan=\"3\" valign=\"top\">2023-10</th>\n",
       "      <th>2023-10-1</th>\n",
       "      <td>10:00:12</td>\n",
       "      <td>없음</td>\n",
       "      <td>-15</td>\n",
       "    </tr>\n",
       "    <tr>\n",
       "      <th>2023-10-2</th>\n",
       "      <td>10:00:12</td>\n",
       "      <td>없음</td>\n",
       "      <td>-15</td>\n",
       "    </tr>\n",
       "    <tr>\n",
       "      <th>2023-10-3</th>\n",
       "      <td>10:00:09</td>\n",
       "      <td>없음</td>\n",
       "      <td>-15</td>\n",
       "    </tr>\n",
       "    <tr>\n",
       "      <th rowspan=\"3\" valign=\"top\">2023-11</th>\n",
       "      <th>2023-11-1</th>\n",
       "      <td>09:10:11</td>\n",
       "      <td>운동</td>\n",
       "      <td>0</td>\n",
       "    </tr>\n",
       "    <tr>\n",
       "      <th>2023-11-2</th>\n",
       "      <td>10:00:12</td>\n",
       "      <td>없음</td>\n",
       "      <td>-15</td>\n",
       "    </tr>\n",
       "    <tr>\n",
       "      <th>2023-11-3</th>\n",
       "      <td>10:00:12</td>\n",
       "      <td>없음</td>\n",
       "      <td>-15</td>\n",
       "    </tr>\n",
       "  </tbody>\n",
       "</table>\n",
       "</div>"
      ],
      "text/plain": [
       "                       time excuse  score\n",
       "month   date                             \n",
       "2023-10 2023-10-1  10:00:12     없음    -15\n",
       "        2023-10-2  10:00:12     없음    -15\n",
       "        2023-10-3  10:00:09     없음    -15\n",
       "2023-11 2023-11-1  09:10:11     운동      0\n",
       "        2023-11-2  10:00:12     없음    -15\n",
       "        2023-11-3  10:00:12     없음    -15"
      ]
     },
     "execution_count": 96,
     "metadata": {},
     "output_type": "execute_result"
    }
   ],
   "source": [
    "data10 = pd.read_csv(\"mycsv.csv\", index_col = [0,1])\n",
    "data10"
   ]
  },
  {
   "cell_type": "code",
   "execution_count": 95,
   "metadata": {},
   "outputs": [],
   "source": [
    "df_add=pd.DataFrame([['2023-11-3','10:00:12','없음',-15]], index=['2023-11'])\n",
    "df_add.to_csv('mycsv.csv',header =False,mode='a')\n"
   ]
  },
  {
   "cell_type": "code",
   "execution_count": null,
   "metadata": {},
   "outputs": [],
   "source": []
  }
 ],
 "metadata": {
  "kernelspec": {
   "display_name": ".venv",
   "language": "python",
   "name": "python3"
  },
  "language_info": {
   "codemirror_mode": {
    "name": "ipython",
    "version": 3
   },
   "file_extension": ".py",
   "mimetype": "text/x-python",
   "name": "python",
   "nbconvert_exporter": "python",
   "pygments_lexer": "ipython3",
   "version": "3.10.9"
  }
 },
 "nbformat": 4,
 "nbformat_minor": 2
}
